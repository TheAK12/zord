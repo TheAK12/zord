{
  "nbformat": 4,
  "nbformat_minor": 0,
  "metadata": {
    "colab": {
      "provenance": [],
      "gpuType": "T4",
      "include_colab_link": true
    },
    "kernelspec": {
      "name": "python3",
      "display_name": "Python 3"
    },
    "language_info": {
      "name": "python"
    },
    "accelerator": "GPU"
  },
  "cells": [
    {
      "cell_type": "markdown",
      "metadata": {
        "id": "view-in-github",
        "colab_type": "text"
      },
      "source": [
        "<a href=\"https://colab.research.google.com/github/TheAK12/zord/blob/master/Simple_Blender_Render.ipynb\" target=\"_parent\"><img src=\"https://colab.research.google.com/assets/colab-badge.svg\" alt=\"Open In Colab\"/></a>"
      ]
    },
    {
      "cell_type": "markdown",
      "source": [
        "![alt_text](https://repository-images.githubusercontent.com/656952604/b1ae251b-033f-48d7-a355-4cb880936ef2)\n",
        "\n",
        "# **Render Blender file using Colaboratory**\n",
        "* Only **Blender 3.X.X** are available in the dictionary. 📚\n",
        "* Add your own version of Blender from the [Blender Repository](https://ftp.nluug.nl/pub/graphics/blender/release). 👷\n",
        "\n",
        "## **🗒️ Notes:**\n",
        "* Open `Files` tab on the left side of the web. 📂\n",
        "* To copy folder or file's path, click on three dots on the right side of the file/folder inside the `Files` tab, `Copy path`. 🗄️\n",
        "* Colab did not recognize file with space inside the filename, I recommend you to rename your file. *ex.* `\"My Scene.blend\"` to `\"My_Scene.blend\"`. 📝\n",
        "* If you upload your .blend file directly from Colab, wait until it finishes uploading before running the first cell. 🔽\n",
        "* If you encounter any issues or have suggestions, please let me know on **GitHub**. Thank you. 🤗\n",
        "\n",
        "\n",
        "\n",
        "## **🎛️ Parameters:**\n",
        "---\n",
        "\n",
        "**🟠 Blender Options**\n",
        "* 👷🛠️ `blender_version`: Blender version you are working with. Opening an older version of the blend file in a newer version is supported.\n",
        "* 🗃️✍️ `project_name`: Your project name for better organization in the files tab.\n",
        "* 📂🚶 `blend_file_path`: Path to your .blend file.\n",
        "* 🔺📬 `gdrive_output` : All rendered will be save directly to your mounted Google Drive; Run `Mount Google Drive`\n",
        "* 🗂️🔺 `organize_gdrive` : Move the original blend file to the auto-created project folder\n",
        "\n",
        "---\n",
        "\n",
        "**🟢 Rendering Options:**\n",
        "* 🎞️📼 `animation`: Specify whether you want to render an animation or a still image. If using a still image, provide the frame number in `start_frame`.\n",
        "* 1️⃣ `start_frame`, 🔟 `end_frame`: Specify the start and end frames for an animation. You can set both values to the same frame number (e.g., 0) to use the default frame in the blend file.\n",
        "\n",
        "---\n",
        "\n",
        "**🔵 GPU & CPU Rendering:**\n",
        "* 🎬🖥️ `gpu_enabled`: Render using GPU. Run the `\"Enable GPU Rendering\"` cell.\n",
        "* 🖥️🖱️ `cpu_enabled`: May slightly boost render performance.\n",
        "\n",
        "**💿 OptiX Rendering:**\n",
        "* 💽✅ `optix_enabled`: Enable OptiX Rendering Technology, which is faster than CUDA. Note that compatibility depends on the version of Blender, the project, and the allocated GPU.\n",
        "\n"
      ],
      "metadata": {
        "id": "DXQwKCpBDK6f"
      }
    },
    {
      "cell_type": "code",
      "source": [
        "#@title Mount Google Drive\n",
        "from google.colab import drive\n",
        "\n",
        "drive.mount(\"/content/drive\", force_remount=True)"
      ],
      "metadata": {
        "cellView": "form",
        "id": "LQ3E85DYnjYn",
        "outputId": "30e67f3a-0ca1-4b57-d869-b3ee85c07907",
        "colab": {
          "base_uri": "https://localhost:8080/"
        }
      },
      "execution_count": 1,
      "outputs": [
        {
          "output_type": "stream",
          "name": "stdout",
          "text": [
            "Mounted at /content/drive\n"
          ]
        }
      ]
    },
    {
      "cell_type": "code",
      "source": [
        "#@title # **Forms**\n",
        "\n",
        "#@markdown\n",
        "#@markdown ## **Blender Options**\n",
        "blender_version = '4.2.0' #@param ['3.0.1','3.1.2','3.2.2' ,'3.3.8','3.4.1' , '3.5.1', '3.6.0', '4.2.0'] {allow-input: false}\n",
        "project_name = 'Neon' #@param {type: 'string'}\n",
        "blend_file_path = '/content/drive/MyDrive/untitled.blend' #@param {type: 'string'}\n",
        "gdrive_output = True #@param {type:\"boolean\"}\n",
        "organize_gdrive = False #@param {type:\"boolean\"}\n",
        "#@markdown ---\n",
        "#@markdown ## **Frame Options**\n",
        "animation = False #@param {type: 'boolean'}\n",
        "start_frame =  0#@param {type: 'integer'}\n",
        "end_frame =  100#@param {type: 'integer'}\n",
        "#@markdown ---\n",
        "#@markdown ## **Rendering Options**\n",
        "gpu_enabled = True #@param {type:\"boolean\"}\n",
        "optix_enabled = True #@param {type:\"boolean\"}\n",
        "cpu_enabled = False #@param {type:\"boolean\"}\n",
        "#@markdown\n",
        "\n",
        "import os\n",
        "from google.colab import drive\n",
        "\n",
        "!mkdir -p /content/$project_name 2>&1 | awk '/exists/{print \"Project folder already exists. Go continue your work :)\"}'\n",
        "!mkdir -p /content/$project_name/rendered 2>/dev/null\n",
        "!mkdir -p /content/$project_name/blend 2>/dev/null\n",
        "!cp $blend_file_path /content/$project_name/blend 2>/dev/null\n",
        "!rm -r /content/sample_data 2>/dev/null\n",
        "\n",
        "blend_file = os.path.basename(blend_file_path)\n",
        "\n",
        "if gdrive_output or organize_gdrive:\n",
        "    if os.path.exists('/content/drive'):\n",
        "      pass\n",
        "    else:\n",
        "      drive.mount('/content/drive', force_remount=True)\n",
        "\n",
        "if gdrive_output:\n",
        "  !mkdir /content/drive/MyDrive/BlenderColab 2>&1 | awk '/exists/{print \"BlenderColab folder already exists. Go continue your work :)\"}'\n",
        "  !mkdir /content/drive/MyDrive/BlenderColab/$project_name 2>/dev/null\n",
        "  !mkdir /content/drive/MyDrive/BlenderColab/$project_name/rendered 2>/dev/null\n",
        "\n",
        "if organize_gdrive:\n",
        "    if \"/content/drive/MyDrive\" in blend_file_path:\n",
        "        !mkdir /content/drive/MyDrive/BlenderColab/$project_name/blend 2>/dev/null\n",
        "        !mv $blend_file_path /content/drive/MyDrive/BlenderColab/$project_name/blend 2>/dev/null\n",
        "    else:\n",
        "        valid_input = False\n",
        "        while not valid_input:\n",
        "            user_input = input(\"Do you want to move the blend file into your Google Drive? (Y/N): \")\n",
        "            if user_input.lower() == \"y\":\n",
        "                !mv $blend_file_path /content/drive/MyDrive/BlenderColab/$project_name/blend\n",
        "                print(\"The blend file has been moved to your Google Drive to be organized :)\")\n",
        "                valid_input = True\n",
        "            elif user_input.lower() == \"n\":\n",
        "                valid_input = True\n",
        "                # Do nothing\n",
        "            else:\n",
        "                print(\"Invalid input. Please enter either Y or N.\")\n"
      ],
      "metadata": {
        "id": "jgLYv29-jj8r",
        "outputId": "148eb123-d3ba-4397-ae92-fd811599358c",
        "colab": {
          "base_uri": "https://localhost:8080/"
        }
      },
      "execution_count": 2,
      "outputs": [
        {
          "output_type": "stream",
          "name": "stdout",
          "text": [
            "BlenderColab folder already exists. Go continue your work :)\n"
          ]
        }
      ]
    },
    {
      "cell_type": "code",
      "source": [
        "#@title NVIDIA GPU Check\n",
        "gpu = !nvidia-smi --query-gpu=gpu_name --format=csv,noheader\n",
        "print(\"Current GPU: \" + gpu[0])\n",
        "\n",
        "if gpu[0] == \"Tesla K80\" and optix_enabled:\n",
        "  print(\"OptiX disabled because of unsupported GPU\")\n",
        "  optix_enabled = False"
      ],
      "metadata": {
        "cellView": "form",
        "id": "A6KG2eHIl8bO",
        "outputId": "c350893a-de4f-4208-f79c-68cf5c801025",
        "colab": {
          "base_uri": "https://localhost:8080/"
        }
      },
      "execution_count": 3,
      "outputs": [
        {
          "output_type": "stream",
          "name": "stdout",
          "text": [
            "Current GPU: Tesla T4\n"
          ]
        }
      ]
    },
    {
      "cell_type": "code",
      "execution_count": 4,
      "metadata": {
        "id": "TbhlhlnGiiA5",
        "outputId": "69a7cb87-14a0-4467-e4d9-ca729c257a88",
        "colab": {
          "base_uri": "https://localhost:8080/"
        }
      },
      "outputs": [
        {
          "output_type": "stream",
          "name": "stdout",
          "text": [
            "--2025-05-18 06:17:25--  https://download.blender.org/release/Blender4.2/blender-4.2.9-linux-x64.tar.xz\n",
            "Resolving download.blender.org (download.blender.org)... 172.67.14.163, 104.22.65.163, 104.22.64.163, ...\n",
            "Connecting to download.blender.org (download.blender.org)|172.67.14.163|:443... connected.\n",
            "HTTP request sent, awaiting response... 200 OK\n",
            "Length: 355259956 (339M) [application/octet-stream]\n",
            "Saving to: ‘blender-4.2.9-linux-x64.tar.xz’\n",
            "\n",
            "blender-4.2.9-linux 100%[===================>] 338.80M   300MB/s    in 1.1s    \n",
            "\n",
            "2025-05-18 06:17:27 (300 MB/s) - ‘blender-4.2.9-linux-x64.tar.xz’ saved [355259956/355259956]\n",
            "\n",
            "rm: cannot remove '/content/blender-4.2.0-linux-x64.tar.xz': No such file or directory\n"
          ]
        }
      ],
      "source": [
        "#@title Blender (Add your own version here)\n",
        "# Add your own version of blender from https://ftp.nluug.nl/pub/graphics/blender/release\n",
        "blender_url_dict = {'3.0.1'   : \"https://ftp.nluug.nl/pub/graphics/blender/release/Blender3.0/blender-3.0.1-linux-x64.tar.xz\",\n",
        "                    '3.1.2'   : \"https://ftp.nluug.nl/pub/graphics/blender/release/Blender3.1/blender-3.1.2-linux-x64.tar.xz\",\n",
        "                    '3.2.2'   : \"https://ftp.nluug.nl/pub/graphics/blender/release/Blender3.2/blender-3.2.2-linux-x64.tar.xz\",\n",
        "                    '3.3.8'   : \"https://ftp.nluug.nl/pub/graphics/blender/release/Blender3.3/blender-3.3.8-linux-x64.tar.xz\",\n",
        "                    '3.4.1'   : \"https://ftp.nluug.nl/pub/graphics/blender/release/Blender3.4/blender-3.4.1-linux-x64.tar.xz\",\n",
        "                    '3.5.1'   : \"https://ftp.nluug.nl/pub/graphics/blender/release/Blender3.5/blender-3.5.1-linux-x64.tar.xz\",\n",
        "                    '3.6.0'   : \"https://ftp.nluug.nl/pub/graphics/blender/release/Blender3.6/blender-3.6.0-linux-x64.tar.xz\",\n",
        "                    '4.2.0'   : \"https://download.blender.org/release/Blender4.2/blender-4.2.9-linux-x64.tar.xz\"}\n",
        "\n",
        "import os\n",
        "\n",
        "blender_url = blender_url_dict[blender_version]\n",
        "base_url = os.path.basename(blender_url)\n",
        "\n",
        "!mkdir $blender_version\n",
        "!wget -nc $blender_url\n",
        "!tar -xkf $base_url -C ./$blender_version --strip-components=1\n",
        "!rm /content/blender-$blender_version-linux-x64.tar.xz"
      ]
    },
    {
      "cell_type": "code",
      "source": [
        "#@title Enable GPU rendering (add here for Custom Properties)\n",
        "data = \"import re\\n\"+\\\n",
        "    \"import bpy\\n\"+\\\n",
        "    \"scene = bpy.context.scene\\n\"+\\\n",
        "    \"scene.cycles.device = 'GPU'\\n\"+\\\n",
        "    \"prefs = bpy.context.preferences\\n\"+\\\n",
        "    \"prefs.addons['cycles'].preferences.get_devices()\\n\"+\\\n",
        "    \"cprefs = prefs.addons['cycles'].preferences\\n\"+\\\n",
        "    \"print(cprefs)\\n\"+\\\n",
        "    \"for compute_device_type in ('CUDA', 'OPENCL', 'NONE'):\\n\"+\\\n",
        "    \"    try:\\n\"+\\\n",
        "    \"        cprefs.compute_device_type = compute_device_type\\n\"+\\\n",
        "    \"        print('Device found:',compute_device_type)\\n\"+\\\n",
        "    \"        break\\n\"+\\\n",
        "    \"    except TypeError:\\n\"+\\\n",
        "    \"        pass\\n\"+\\\n",
        "    \"for device in cprefs.devices:\\n\"+\\\n",
        "    \"    if not re.match('intel', device.name, re.I):\\n\"+\\\n",
        "    \"        print('Activating',device)\\n\"+\\\n",
        "    \"        device.use = \"+str(gpu_enabled)+\"\\n\"+\\\n",
        "    \"    else:\\n\"+\\\n",
        "    \"        device.use = \"+str(cpu_enabled)+\"\\n\"\n",
        "with open('setgpu.py', 'w') as f:\n",
        "    f.write(data)\n",
        "\n",
        "renderer = \"CUDA\"\n",
        "if optix_enabled:\n",
        "    print(\"Note: You're currently using OptiX renderer. If an error occurred, set OptiX to False\")\n",
        "    renderer = \"OPTIX\"\n",
        "\n",
        "if gpu_enabled:\n",
        "  !cp /content/setgpu.py /content/$blender_version/"
      ],
      "metadata": {
        "id": "nFnxoGOXqg07",
        "cellView": "form",
        "outputId": "5c5c2532-3a8d-4978-8fab-253f1f859934",
        "colab": {
          "base_uri": "https://localhost:8080/"
        }
      },
      "execution_count": 5,
      "outputs": [
        {
          "output_type": "stream",
          "name": "stdout",
          "text": [
            "Note: You're currently using OptiX renderer. If an error occurred, set OptiX to False\n"
          ]
        }
      ]
    },
    {
      "cell_type": "code",
      "source": [
        "#@title Render\n",
        "%cd /content/$blender_version\n",
        "\n",
        "if gdrive_output:\n",
        "  output_path = f'/content/drive/MyDrive/BlenderColab/{project_name}/rendered/{project_name}-###'\n",
        "else:\n",
        "  output_path = f'/content/{project_name}/rendered/{project_name}-###'\n",
        "\n",
        "if animation:\n",
        "    if start_frame == end_frame:\n",
        "        !./$blender_version/blender -b '/content/$project_name/blend/{blend_file}' -P setgpu.py -E CYCLES -o '{output_path}' -noaudio -a -- --cycles-device \"{renderer}\"\n",
        "    else:\n",
        "        !./$blender_version/blender -b '/content/$project_name/blend/{blend_file}' -P setgpu.py -E CYCLES -o '{output_path}' -noaudio -s $start_frame -e $end_frame -a -- --cycles-device \"{renderer}\"\n",
        "else:\n",
        "    !./$blender_version/blender -b '/content/$project_name/blend/{blend_file}' -P setgpu.py -E CYCLES -o '{output_path}' -noaudio -f $start_frame -- --cycles-device \"{renderer}\""
      ],
      "metadata": {
        "id": "TisfkRSXroPV",
        "cellView": "form",
        "outputId": "626e7adc-1ce1-43ba-ed47-3514654debb9",
        "colab": {
          "base_uri": "https://localhost:8080/"
        }
      },
      "execution_count": 7,
      "outputs": [
        {
          "output_type": "stream",
          "name": "stdout",
          "text": [
            "/content/4.2.0\n",
            "Blender 4.2.9 LTS (hash a10f621e649a built 2025-04-15 01:46:41)\n",
            "Read blend: \"/content/Neon/blend/untitled.blend\"\n",
            "<bpy_struct, CyclesPreferences at 0x796d10b3bba8>\n",
            "Device found: CUDA\n",
            "Activating <bpy_struct, CyclesDeviceSettings(\"Tesla T4\") at 0x796d2f504208>\n",
            "Activating <bpy_struct, CyclesDeviceSettings(\"Tesla T4\") at 0x796d2f504318>\n",
            "Fra:0 Mem:239.81M (Peak 254.91M) | Time:00:00.20 | Mem:0.00M, Peak:0.00M | Scene, ViewLayer | Synchronizing object | Cube.2171\n",
            "Fra:0 Mem:239.82M (Peak 254.91M) | Time:00:00.21 | Mem:0.00M, Peak:0.00M | Scene, ViewLayer | Synchronizing object | Plane.002\n",
            "Fra:0 Mem:239.82M (Peak 254.91M) | Time:00:00.21 | Mem:0.00M, Peak:0.00M | Scene, ViewLayer | Synchronizing object | Collection.smd\n",
            "Fra:0 Mem:260.66M (Peak 261.93M) | Time:00:00.23 | Mem:0.00M, Peak:0.00M | Scene, ViewLayer | Synchronizing object | outfit_shoes\n",
            "Fra:0 Mem:266.08M (Peak 266.08M) | Time:00:00.23 | Mem:0.00M, Peak:0.00M | Scene, ViewLayer | Synchronizing object | AvatarTeethUpper\n",
            "Fra:0 Mem:268.39M (Peak 268.39M) | Time:00:00.24 | Mem:0.00M, Peak:0.00M | Scene, ViewLayer | Synchronizing object | AvatarRightEyeball\n",
            "Fra:0 Mem:268.55M (Peak 268.55M) | Time:00:00.24 | Mem:0.00M, Peak:0.00M | Scene, ViewLayer | Synchronizing object | AvatarLeftEyeball\n",
            "Fra:0 Mem:268.72M (Peak 268.72M) | Time:00:00.24 | Mem:0.00M, Peak:0.00M | Scene, ViewLayer | Synchronizing object | AvatarBody\n",
            "Fra:0 Mem:269.45M (Peak 269.45M) | Time:00:00.25 | Mem:0.00M, Peak:0.00M | Scene, ViewLayer | Synchronizing object | AvatarHead\n",
            "Fra:0 Mem:285.97M (Peak 285.98M) | Time:00:00.28 | Mem:0.00M, Peak:0.00M | Scene, ViewLayer | Synchronizing object | outfit_top\n",
            "Fra:0 Mem:306.62M (Peak 306.71M) | Time:00:00.31 | Mem:0.00M, Peak:0.00M | Scene, ViewLayer | Synchronizing object | outfit_bottom\n",
            "Fra:0 Mem:312.30M (Peak 312.56M) | Time:00:00.32 | Mem:0.00M, Peak:0.00M | Scene, ViewLayer | Synchronizing object | AvatarTeethLower\n",
            "Fra:0 Mem:313.04M (Peak 313.04M) | Time:00:00.33 | Mem:0.00M, Peak:0.00M | Scene, ViewLayer | Synchronizing object | AvatarRightCornea\n",
            "Fra:0 Mem:313.22M (Peak 313.22M) | Time:00:00.33 | Mem:0.00M, Peak:0.00M | Scene, ViewLayer | Synchronizing object | AvatarLeftCornea\n",
            "Fra:0 Mem:313.39M (Peak 313.39M) | Time:00:00.33 | Mem:0.00M, Peak:0.00M | Scene, ViewLayer | Synchronizing object | AvatarEyelashes\n",
            "Fra:0 Mem:314.55M (Peak 314.61M) | Time:00:00.34 | Mem:0.00M, Peak:0.00M | Scene, ViewLayer | Synchronizing object | Street_Lamp\n",
            "Fra:0 Mem:326.05M (Peak 338.03M) | Time:00:00.44 | Mem:0.00M, Peak:0.00M | Scene, ViewLayer | Synchronizing object | Public bench\n",
            "Fra:0 Mem:390.16M (Peak 404.95M) | Time:00:00.61 | Mem:0.00M, Peak:0.00M | Scene, ViewLayer | Synchronizing object | Plane.001\n",
            "Fra:0 Mem:390.16M (Peak 404.95M) | Time:00:00.61 | Mem:0.00M, Peak:0.00M | Scene, ViewLayer | Synchronizing object | Plane\n",
            "Fra:0 Mem:390.16M (Peak 404.95M) | Time:00:00.61 | Mem:0.00M, Peak:0.00M | Scene, ViewLayer | Synchronizing object | Icosphere.008\n",
            "Fra:0 Mem:390.17M (Peak 404.95M) | Time:00:00.61 | Mem:0.00M, Peak:0.00M | Scene, ViewLayer | Synchronizing object | Icosphere.007\n",
            "Fra:0 Mem:390.17M (Peak 404.95M) | Time:00:00.61 | Mem:0.00M, Peak:0.00M | Scene, ViewLayer | Synchronizing object | Icosphere.006\n",
            "Fra:0 Mem:390.18M (Peak 404.95M) | Time:00:00.61 | Mem:0.00M, Peak:0.00M | Scene, ViewLayer | Synchronizing object | Icosphere.005\n",
            "Fra:0 Mem:390.18M (Peak 404.95M) | Time:00:00.61 | Mem:0.00M, Peak:0.00M | Scene, ViewLayer | Synchronizing object | Icosphere.004\n",
            "Fra:0 Mem:390.19M (Peak 404.95M) | Time:00:00.61 | Mem:0.00M, Peak:0.00M | Scene, ViewLayer | Synchronizing object | Icosphere.003\n",
            "Fra:0 Mem:390.19M (Peak 404.95M) | Time:00:00.61 | Mem:0.00M, Peak:0.00M | Scene, ViewLayer | Synchronizing object | Icosphere.002\n",
            "Fra:0 Mem:390.20M (Peak 404.95M) | Time:00:00.61 | Mem:0.00M, Peak:0.00M | Scene, ViewLayer | Synchronizing object | Icosphere.001\n",
            "Fra:0 Mem:390.20M (Peak 404.95M) | Time:00:00.61 | Mem:0.00M, Peak:0.00M | Scene, ViewLayer | Synchronizing object | Icosphere\n",
            "Fra:0 Mem:390.21M (Peak 408.21M) | Time:00:00.85 | Mem:0.00M, Peak:0.00M | Scene, ViewLayer | Initializing\n",
            "Fra:0 Mem:384.76M (Peak 408.21M) | Time:00:00.85 | Mem:0.00M, Peak:0.00M | Scene, ViewLayer | Updating Images | Loading midgray\n",
            "Fra:0 Mem:384.76M (Peak 408.21M) | Time:00:00.85 | Mem:0.00M, Peak:0.00M | Scene, ViewLayer | Updating Images | Loading Bois269.jpg\n",
            "Fra:0 Mem:385.22M (Peak 408.21M) | Time:00:00.85 | Mem:0.20M, Peak:0.20M | Scene, ViewLayer | Updating Images | Loading AvatarLeftCornea_Color_512.jpg\n",
            "Fra:0 Mem:386.22M (Peak 408.21M) | Time:00:00.86 | Mem:0.45M, Peak:0.45M | Scene, ViewLayer | Updating Images | Loading metalczarny normal\n",
            "Fra:0 Mem:390.22M (Peak 408.21M) | Time:00:00.86 | Mem:1.45M, Peak:1.45M | Scene, ViewLayer | Updating Images | Loading AvatarRightCornea_Color_512.jpg\n",
            "Fra:0 Mem:391.22M (Peak 408.21M) | Time:00:00.86 | Mem:2.45M, Peak:2.45M | Scene, ViewLayer | Updating Images | Loading AvatarTeeth_Color_1K.jpg\n",
            "Fra:0 Mem:395.22M (Peak 408.21M) | Time:00:00.87 | Mem:6.45M, Peak:6.45M | Scene, ViewLayer | Updating Images | Loading AvatarTeeth_Normal1_1K.jpg\n",
            "Fra:0 Mem:399.22M (Peak 408.21M) | Time:00:00.89 | Mem:10.45M, Peak:10.45M | Scene, ViewLayer | Updating Images | Loading jeans_AZAT_Color_1K.jpg\n",
            "Fra:0 Mem:403.22M (Peak 411.23M) | Time:00:00.91 | Mem:14.45M, Peak:14.45M | Scene, ViewLayer | Updating Images | Loading jeans_AZAT_Normal_1K.jpg\n",
            "Fra:0 Mem:407.22M (Peak 423.24M) | Time:00:00.92 | Mem:18.45M, Peak:18.45M | Scene, ViewLayer | Updating Images | Loading hoodie_AZAT_Color_1K.jpg\n",
            "Fra:0 Mem:411.22M (Peak 423.24M) | Time:00:00.92 | Mem:22.45M, Peak:22.45M | Scene, ViewLayer | Updating Images | Loading metalszary\n",
            "Fra:0 Mem:415.22M (Peak 423.24M) | Time:00:00.94 | Mem:26.45M, Peak:26.45M | Scene, ViewLayer | Updating Images | Loading hoodie_AZAT_Normal_1K.jpg\n",
            "Fra:0 Mem:419.22M (Peak 427.23M) | Time:00:00.95 | Mem:30.45M, Peak:30.45M | Scene, ViewLayer | Updating Images | Loading AvatarHeadMale_Color_1K.jpg\n",
            "Fra:0 Mem:423.22M (Peak 431.23M) | Time:00:00.96 | Mem:34.45M, Peak:34.45M | Scene, ViewLayer | Updating Images | Loading AvatarHeadMale_Normal1_1K.jpg\n",
            "Fra:0 Mem:427.22M (Peak 443.24M) | Time:00:00.97 | Mem:38.45M, Peak:38.45M | Scene, ViewLayer | Updating Images | Loading AvatarBodyMale_Color_1K.jpg\n",
            "Fra:0 Mem:431.22M (Peak 443.24M) | Time:00:00.97 | Mem:42.45M, Peak:42.45M | Scene, ViewLayer | Updating Images | Loading ekoskora normal\n",
            "Fra:0 Mem:435.22M (Peak 443.24M) | Time:00:00.98 | Mem:46.45M, Peak:46.45M | Scene, ViewLayer | Updating Images | Loading AvatarBodyMale_Normal1_1K.jpg\n",
            "Fra:0 Mem:439.22M (Peak 447.23M) | Time:00:00.99 | Mem:50.45M, Peak:50.45M | Scene, ViewLayer | Updating Images | Loading AvatarEyes_Color_512.jpg\n",
            "Fra:0 Mem:440.22M (Peak 447.23M) | Time:00:01.00 | Mem:51.45M, Peak:51.45M | Scene, ViewLayer | Updating Images | Loading AvatarEyes_Normal_512.jpg\n",
            "Fra:0 Mem:441.22M (Peak 447.23M) | Time:00:01.00 | Mem:52.45M, Peak:52.45M | Scene, ViewLayer | Updating Images | Loading sneakers_AZAT_Color_1K.jpg\n",
            "Fra:0 Mem:445.22M (Peak 453.23M) | Time:00:01.02 | Mem:56.45M, Peak:56.45M | Scene, ViewLayer | Updating Images | Loading sneakers_AZAT_Normal_1K.jpg\n",
            "Fra:0 Mem:449.23M (Peak 457.23M) | Time:00:01.03 | Mem:60.45M, Peak:60.45M | Scene, ViewLayer | Updating Images | Loading darkgray\n",
            "Fra:0 Mem:449.47M (Peak 457.23M) | Time:00:01.03 | Mem:60.70M, Peak:60.70M | Scene, ViewLayer | Updating Images | Loading plastik normal\n",
            "Fra:0 Mem:453.47M (Peak 457.23M) | Time:00:01.03 | Mem:64.70M, Peak:64.70M | Scene, ViewLayer | Updating Images | Loading foam normal\n",
            "Fra:0 Mem:457.47M (Peak 465.48M) | Time:00:01.10 | Mem:68.70M, Peak:68.70M | Scene, ViewLayer | Updating Images | Loading metalczarny\n",
            "Fra:0 Mem:449.63M (Peak 469.48M) | Time:00:01.14 | Mem:76.70M, Peak:76.70M | Scene, ViewLayer | Waiting for render to start\n",
            "Fra:0 Mem:449.64M (Peak 469.48M) | Time:00:01.14 | Mem:76.70M, Peak:76.70M | Scene, ViewLayer | Loading render kernels (may take a few minutes the first time)\n",
            "Fra:0 Mem:449.64M (Peak 478.07M) | Time:00:01.25 | Mem:76.71M, Peak:76.71M | Scene, ViewLayer | Updating Scene\n",
            "Fra:0 Mem:449.64M (Peak 478.07M) | Time:00:01.25 | Mem:76.71M, Peak:76.71M | Scene, ViewLayer | Updating Shaders\n",
            "Fra:0 Mem:449.74M (Peak 478.07M) | Time:00:01.25 | Mem:76.73M, Peak:76.73M | Scene, ViewLayer | Updating Procedurals\n",
            "Fra:0 Mem:449.74M (Peak 478.07M) | Time:00:01.25 | Mem:76.73M, Peak:76.73M | Scene, ViewLayer | Updating Background\n",
            "Fra:0 Mem:449.74M (Peak 478.07M) | Time:00:01.25 | Mem:76.73M, Peak:76.73M | Scene, ViewLayer | Updating Camera\n",
            "Fra:0 Mem:449.74M (Peak 478.07M) | Time:00:01.25 | Mem:76.73M, Peak:76.73M | Scene, ViewLayer | Updating Meshes Flags\n",
            "Fra:0 Mem:449.74M (Peak 478.07M) | Time:00:01.25 | Mem:76.73M, Peak:76.73M | Scene, ViewLayer | Updating Objects\n",
            "Fra:0 Mem:449.74M (Peak 478.07M) | Time:00:01.25 | Mem:76.73M, Peak:76.73M | Scene, ViewLayer | Updating Objects | Copying Transformations to device\n",
            "Fra:0 Mem:449.75M (Peak 478.07M) | Time:00:01.25 | Mem:76.74M, Peak:76.74M | Scene, ViewLayer | Updating Objects | Applying Static Transformations\n",
            "Fra:0 Mem:449.75M (Peak 478.07M) | Time:00:01.25 | Mem:76.74M, Peak:76.74M | Scene, ViewLayer | Updating Particle Systems\n",
            "Fra:0 Mem:449.75M (Peak 478.07M) | Time:00:01.25 | Mem:76.74M, Peak:76.74M | Scene, ViewLayer | Updating Particle Systems | Copying Particles to device\n",
            "Fra:0 Mem:449.75M (Peak 478.07M) | Time:00:01.25 | Mem:76.74M, Peak:76.74M | Scene, ViewLayer | Updating Meshes\n",
            "Fra:0 Mem:468.70M (Peak 478.07M) | Time:00:01.28 | Mem:76.74M, Peak:76.74M | Scene, ViewLayer | Updating Displacement Images\n",
            "Fra:0 Mem:468.70M (Peak 478.07M) | Time:00:01.28 | Mem:76.74M, Peak:76.74M | Scene, ViewLayer | Updating Images | Loading rock_wall_10_disp_4k.png\n",
            "Fra:0 Mem:468.70M (Peak 478.07M) | Time:00:01.28 | Mem:76.74M, Peak:76.74M | Scene, ViewLayer | Updating Images | Loading rock_wall_10_diff_4k.jpg\n",
            "Fra:0 Mem:468.70M (Peak 478.07M) | Time:00:01.28 | Mem:76.74M, Peak:76.74M | Scene, ViewLayer | Updating Images | Loading rock_wall_10_nor_gl_4k.exr\n",
            "Fra:0 Mem:468.70M (Peak 478.07M) | Time:00:01.28 | Mem:76.74M, Peak:76.74M | Scene, ViewLayer | Updating Images | Loading rock_wall_10_rough_4k.exr\n",
            "Fra:0 Mem:468.70M (Peak 478.07M) | Time:00:01.28 | Mem:76.74M, Peak:76.74M | Scene, ViewLayer | Updating Mesh | Computing normals\n",
            "Fra:0 Mem:512.10M (Peak 512.10M) | Time:00:01.30 | Mem:76.74M, Peak:76.74M | Scene, ViewLayer | Updating Mesh | Copying Mesh to device\n",
            "Fra:0 Mem:512.10M (Peak 512.10M) | Time:00:01.31 | Mem:120.14M, Peak:120.14M | Scene, ViewLayer | Updating Mesh | Computing attributes\n",
            "Fra:0 Mem:568.71M (Peak 568.71M) | Time:00:01.34 | Mem:120.14M, Peak:120.14M | Scene, ViewLayer | Updating Mesh | Copying Attributes to device\n",
            "Fra:0 Mem:568.71M (Peak 568.71M) | Time:00:01.35 | Mem:176.75M, Peak:176.75M | Scene, ViewLayer | Updating Mesh | Computing Displacement Cube.2204\n",
            "Fra:0 Mem:468.70M (Peak 574.03M) | Time:00:01.40 | Mem:76.74M, Peak:182.07M | Scene, ViewLayer | Updating Mesh | Computing attributes\n",
            "Fra:0 Mem:525.31M (Peak 574.03M) | Time:00:01.42 | Mem:76.74M, Peak:182.07M | Scene, ViewLayer | Updating Mesh | Copying Attributes to device\n",
            "Fra:0 Mem:525.31M (Peak 574.03M) | Time:00:01.43 | Mem:133.35M, Peak:182.07M | Scene, ViewLayer | Updating Geometry BVH Plane.002 28/28 | Building BVH\n",
            "Fra:0 Mem:525.31M (Peak 574.03M) | Time:00:01.43 | Mem:133.35M, Peak:182.07M | Scene, ViewLayer | Updating Geometry BVH Plane.002 28/28 | Building OptiX acceleration structure\n",
            "Fra:0 Mem:525.31M (Peak 574.03M) | Time:00:01.43 | Mem:133.35M, Peak:182.07M | Scene, ViewLayer | Updating Geometry BVH Cube.2204 1/28 | Building BVH\n",
            "Fra:0 Mem:525.31M (Peak 574.03M) | Time:00:01.43 | Mem:133.35M, Peak:182.07M | Scene, ViewLayer | Updating Geometry BVH Cube.2204 1/28 | Building OptiX acceleration structure\n",
            "Fra:0 Mem:529.81M (Peak 574.03M) | Time:00:01.43 | Mem:133.35M, Peak:182.07M | Scene, ViewLayer | Updating Geometry BVH ivip/gear/headphones.mdl_ath_Collection.smd_MESH 27/28 | Building BVH\n",
            "Fra:0 Mem:529.81M (Peak 574.03M) | Time:00:01.43 | Mem:133.35M, Peak:182.07M | Scene, ViewLayer | Updating Geometry BVH ivip/gear/headphones.mdl_ath_Collection.smd_MESH 27/28 | Building OptiX acceleration structure\n",
            "Fra:0 Mem:532.85M (Peak 574.03M) | Time:00:01.44 | Mem:141.08M, Peak:182.07M | Scene, ViewLayer | Updating Geometry BVH outfit_shoes 26/28 | Building BVH\n",
            "Fra:0 Mem:532.85M (Peak 574.03M) | Time:00:01.44 | Mem:141.08M, Peak:182.07M | Scene, ViewLayer | Updating Geometry BVH outfit_shoes 26/28 | Building OptiX acceleration structure\n",
            "Fra:0 Mem:525.39M (Peak 574.03M) | Time:00:01.44 | Mem:141.19M, Peak:182.07M | Scene, ViewLayer | Updating Geometry BVH Icosphere 2/28 | Building BVH\n",
            "Fra:0 Mem:525.39M (Peak 574.03M) | Time:00:01.44 | Mem:141.37M, Peak:182.07M | Scene, ViewLayer | Updating Geometry BVH Icosphere 2/28 | Building OptiX acceleration structure\n",
            "Fra:0 Mem:525.31M (Peak 574.03M) | Time:00:01.45 | Mem:141.21M, Peak:182.07M | Scene, ViewLayer | Updating Geometry BVH AvatarTeethUpper 25/28 | Building BVH\n",
            "Fra:0 Mem:525.31M (Peak 574.03M) | Time:00:01.45 | Mem:141.21M, Peak:182.07M | Scene, ViewLayer | Updating Geometry BVH AvatarTeethUpper 25/28 | Building OptiX acceleration structure\n",
            "Fra:0 Mem:525.38M (Peak 574.03M) | Time:00:01.45 | Mem:141.28M, Peak:182.07M | Scene, ViewLayer | Updating Geometry BVH Icosphere.001 3/28 | Building BVH\n",
            "Fra:0 Mem:525.38M (Peak 574.03M) | Time:00:01.45 | Mem:141.28M, Peak:182.07M | Scene, ViewLayer | Updating Geometry BVH Icosphere.001 3/28 | Building OptiX acceleration structure\n",
            "Fra:0 Mem:525.31M (Peak 574.03M) | Time:00:01.45 | Mem:141.30M, Peak:182.07M | Scene, ViewLayer | Updating Geometry BVH AvatarRightEyeball 24/28 | Building BVH\n",
            "Fra:0 Mem:525.31M (Peak 574.03M) | Time:00:01.45 | Mem:141.30M, Peak:182.07M | Scene, ViewLayer | Updating Geometry BVH AvatarRightEyeball 24/28 | Building OptiX acceleration structure\n",
            "Fra:0 Mem:525.32M (Peak 574.03M) | Time:00:01.45 | Mem:141.31M, Peak:182.07M | Scene, ViewLayer | Updating Geometry BVH Icosphere.002 4/28 | Building BVH\n",
            "Fra:0 Mem:525.32M (Peak 574.03M) | Time:00:01.45 | Mem:141.31M, Peak:182.07M | Scene, ViewLayer | Updating Geometry BVH Icosphere.002 4/28 | Building OptiX acceleration structure\n",
            "Fra:0 Mem:525.31M (Peak 574.03M) | Time:00:01.45 | Mem:141.32M, Peak:182.07M | Scene, ViewLayer | Updating Geometry BVH AvatarLeftEyeball 23/28 | Building BVH\n",
            "Fra:0 Mem:525.31M (Peak 574.03M) | Time:00:01.45 | Mem:141.32M, Peak:182.07M | Scene, ViewLayer | Updating Geometry BVH AvatarLeftEyeball 23/28 | Building OptiX acceleration structure\n",
            "Fra:0 Mem:525.32M (Peak 574.03M) | Time:00:01.45 | Mem:141.33M, Peak:182.07M | Scene, ViewLayer | Updating Geometry BVH Icosphere.003 5/28 | Building BVH\n",
            "Fra:0 Mem:525.32M (Peak 574.03M) | Time:00:01.45 | Mem:141.33M, Peak:182.07M | Scene, ViewLayer | Updating Geometry BVH Icosphere.003 5/28 | Building OptiX acceleration structure\n",
            "Fra:0 Mem:525.31M (Peak 574.03M) | Time:00:01.45 | Mem:141.34M, Peak:182.07M | Scene, ViewLayer | Updating Geometry BVH AvatarBody 22/28 | Building BVH\n",
            "Fra:0 Mem:525.31M (Peak 574.03M) | Time:00:01.45 | Mem:141.34M, Peak:182.07M | Scene, ViewLayer | Updating Geometry BVH AvatarBody 22/28 | Building OptiX acceleration structure\n",
            "Fra:0 Mem:525.37M (Peak 574.03M) | Time:00:01.45 | Mem:141.41M, Peak:182.07M | Scene, ViewLayer | Updating Geometry BVH Icosphere.004 6/28 | Building BVH\n",
            "Fra:0 Mem:525.37M (Peak 574.03M) | Time:00:01.45 | Mem:141.41M, Peak:182.07M | Scene, ViewLayer | Updating Geometry BVH Icosphere.004 6/28 | Building OptiX acceleration structure\n",
            "Fra:0 Mem:525.31M (Peak 574.03M) | Time:00:01.45 | Mem:141.42M, Peak:182.07M | Scene, ViewLayer | Updating Geometry BVH AvatarHead 21/28 | Building BVH\n",
            "Fra:0 Mem:525.31M (Peak 574.03M) | Time:00:01.45 | Mem:141.42M, Peak:182.07M | Scene, ViewLayer | Updating Geometry BVH AvatarHead 21/28 | Building OptiX acceleration structure\n",
            "Fra:0 Mem:525.58M (Peak 574.03M) | Time:00:01.45 | Mem:141.69M, Peak:182.07M | Scene, ViewLayer | Updating Geometry BVH Icosphere.005 7/28 | Building BVH\n",
            "Fra:0 Mem:525.58M (Peak 574.03M) | Time:00:01.45 | Mem:141.69M, Peak:182.07M | Scene, ViewLayer | Updating Geometry BVH Icosphere.005 7/28 | Building OptiX acceleration structure\n",
            "Fra:0 Mem:525.31M (Peak 574.03M) | Time:00:01.46 | Mem:141.74M, Peak:182.07M | Scene, ViewLayer | Updating Geometry BVH outfit_top 20/28 | Building BVH\n",
            "Fra:0 Mem:525.31M (Peak 574.03M) | Time:00:01.46 | Mem:141.75M, Peak:182.07M | Scene, ViewLayer | Updating Geometry BVH outfit_top 20/28 | Building OptiX acceleration structure\n",
            "Fra:0 Mem:525.55M (Peak 574.03M) | Time:00:01.46 | Mem:141.98M, Peak:182.07M | Scene, ViewLayer | Updating Geometry BVH Icosphere.006 8/28 | Building BVH\n",
            "Fra:0 Mem:525.55M (Peak 574.03M) | Time:00:01.46 | Mem:141.98M, Peak:182.07M | Scene, ViewLayer | Updating Geometry BVH Icosphere.006 8/28 | Building OptiX acceleration structure\n",
            "Fra:0 Mem:525.31M (Peak 574.03M) | Time:00:01.46 | Mem:142.03M, Peak:182.07M | Scene, ViewLayer | Updating Geometry BVH outfit_bottom 19/28 | Building BVH\n",
            "Fra:0 Mem:525.31M (Peak 574.03M) | Time:00:01.46 | Mem:142.03M, Peak:182.07M | Scene, ViewLayer | Updating Geometry BVH outfit_bottom 19/28 | Building OptiX acceleration structure\n",
            "Fra:0 Mem:525.42M (Peak 574.03M) | Time:00:01.46 | Mem:142.14M, Peak:182.07M | Scene, ViewLayer | Updating Geometry BVH Icosphere.007 9/28 | Building BVH\n",
            "Fra:0 Mem:525.42M (Peak 574.03M) | Time:00:01.46 | Mem:142.14M, Peak:182.07M | Scene, ViewLayer | Updating Geometry BVH Icosphere.007 9/28 | Building OptiX acceleration structure\n",
            "Fra:0 Mem:525.31M (Peak 574.03M) | Time:00:01.46 | Mem:142.16M, Peak:182.07M | Scene, ViewLayer | Updating Geometry BVH AvatarTeethLower 18/28 | Building BVH\n",
            "Fra:0 Mem:525.31M (Peak 574.03M) | Time:00:01.46 | Mem:142.16M, Peak:182.07M | Scene, ViewLayer | Updating Geometry BVH AvatarTeethLower 18/28 | Building OptiX acceleration structure\n",
            "Fra:0 Mem:525.38M (Peak 574.03M) | Time:00:01.46 | Mem:142.23M, Peak:182.07M | Scene, ViewLayer | Updating Geometry BVH Icosphere.008 10/28 | Building BVH\n",
            "Fra:0 Mem:525.38M (Peak 574.03M) | Time:00:01.46 | Mem:142.23M, Peak:182.07M | Scene, ViewLayer | Updating Geometry BVH Icosphere.008 10/28 | Building OptiX acceleration structure\n",
            "Fra:0 Mem:525.31M (Peak 574.03M) | Time:00:01.46 | Mem:142.25M, Peak:182.07M | Scene, ViewLayer | Updating Geometry BVH AvatarRightCornea 17/28 | Building BVH\n",
            "Fra:0 Mem:525.31M (Peak 574.03M) | Time:00:01.46 | Mem:142.25M, Peak:182.07M | Scene, ViewLayer | Updating Geometry BVH AvatarRightCornea 17/28 | Building OptiX acceleration structure\n",
            "Fra:0 Mem:525.32M (Peak 574.03M) | Time:00:01.46 | Mem:142.26M, Peak:182.07M | Scene, ViewLayer | Updating Geometry BVH Plane 11/28 | Building BVH\n",
            "Fra:0 Mem:525.32M (Peak 574.03M) | Time:00:01.46 | Mem:142.26M, Peak:182.07M | Scene, ViewLayer | Updating Geometry BVH Plane 11/28 | Building OptiX acceleration structure\n",
            "Fra:0 Mem:525.31M (Peak 574.03M) | Time:00:01.46 | Mem:142.27M, Peak:182.07M | Scene, ViewLayer | Updating Geometry BVH AvatarLeftCornea 16/28 | Building BVH\n",
            "Fra:0 Mem:525.31M (Peak 574.03M) | Time:00:01.46 | Mem:142.27M, Peak:182.07M | Scene, ViewLayer | Updating Geometry BVH AvatarLeftCornea 16/28 | Building OptiX acceleration structure\n",
            "Fra:0 Mem:525.32M (Peak 574.03M) | Time:00:01.46 | Mem:142.28M, Peak:182.07M | Scene, ViewLayer | Updating Geometry BVH Plane.001 12/28 | Building BVH\n",
            "Fra:0 Mem:525.32M (Peak 574.03M) | Time:00:01.46 | Mem:142.28M, Peak:182.07M | Scene, ViewLayer | Updating Geometry BVH Plane.001 12/28 | Building OptiX acceleration structure\n",
            "Fra:0 Mem:525.31M (Peak 574.03M) | Time:00:01.46 | Mem:142.29M, Peak:182.07M | Scene, ViewLayer | Updating Geometry BVH AvatarEyelashes 15/28 | Building BVH\n",
            "Fra:0 Mem:525.31M (Peak 574.03M) | Time:00:01.46 | Mem:142.29M, Peak:182.07M | Scene, ViewLayer | Updating Geometry BVH AvatarEyelashes 15/28 | Building OptiX acceleration structure\n",
            "Fra:0 Mem:525.46M (Peak 574.03M) | Time:00:01.47 | Mem:142.92M, Peak:182.07M | Scene, ViewLayer | Updating Geometry BVH CercleBézier.001 13/28 | Building BVH\n",
            "Fra:0 Mem:525.46M (Peak 574.03M) | Time:00:01.47 | Mem:142.92M, Peak:182.07M | Scene, ViewLayer | Updating Geometry BVH CercleBézier.001 13/28 | Building OptiX acceleration structure\n",
            "Fra:0 Mem:532.70M (Peak 574.03M) | Time:00:01.47 | Mem:142.42M, Peak:182.07M | Scene, ViewLayer | Updating Geometry BVH Circle.013 14/28 | Building BVH\n",
            "Fra:0 Mem:532.70M (Peak 574.03M) | Time:00:01.47 | Mem:142.42M, Peak:182.07M | Scene, ViewLayer | Updating Geometry BVH Circle.013 14/28 | Building OptiX acceleration structure\n",
            "Fra:0 Mem:525.31M (Peak 574.03M) | Time:00:01.49 | Mem:157.72M, Peak:219.99M | Scene, ViewLayer | Updating Scene BVH | Building\n",
            "Fra:0 Mem:525.31M (Peak 574.03M) | Time:00:01.49 | Mem:157.72M, Peak:219.99M | Scene, ViewLayer | Updating Scene BVH | Building OptiX acceleration structure\n",
            "Fra:0 Mem:525.31M (Peak 574.03M) | Time:00:01.49 | Mem:157.73M, Peak:219.99M | Scene, ViewLayer | Updating Scene BVH | Copying BVH to device\n",
            "Fra:0 Mem:525.31M (Peak 574.03M) | Time:00:01.49 | Mem:157.73M, Peak:219.99M | Scene, ViewLayer | Updating Mesh | Computing normals\n",
            "Fra:0 Mem:568.71M (Peak 574.03M) | Time:00:01.51 | Mem:157.73M, Peak:219.99M | Scene, ViewLayer | Updating Mesh | Copying Mesh to device\n",
            "Fra:0 Mem:568.71M (Peak 574.03M) | Time:00:01.52 | Mem:201.13M, Peak:219.99M | Scene, ViewLayer | Updating Objects Flags\n",
            "Fra:0 Mem:568.71M (Peak 574.03M) | Time:00:01.52 | Mem:201.13M, Peak:219.99M | Scene, ViewLayer | Updating Primitive Offsets\n",
            "Fra:0 Mem:568.71M (Peak 574.03M) | Time:00:01.52 | Mem:201.13M, Peak:219.99M | Scene, ViewLayer | Updating Images\n",
            "Fra:0 Mem:568.71M (Peak 574.03M) | Time:00:01.52 | Mem:201.13M, Peak:219.99M | Scene, ViewLayer | Updating Images | Loading Street_Lamp_Material.005_Emissive.png\n",
            "Fra:0 Mem:568.71M (Peak 574.03M) | Time:00:01.52 | Mem:201.13M, Peak:219.99M | Scene, ViewLayer | Updating Images | Loading gary-scott-YvRTYzkT6Hs-unsplash.jpg\n",
            "Fra:0 Mem:568.71M (Peak 574.03M) | Time:00:01.52 | Mem:201.13M, Peak:219.99M | Scene, ViewLayer | Updating Images | Loading Street_Lamp_Material.005_Roughness.png\n",
            "Fra:0 Mem:568.71M (Peak 574.03M) | Time:00:01.52 | Mem:201.13M, Peak:219.99M | Scene, ViewLayer | Updating Images | Loading Street_Lamp_Material.005_Metallic.png\n",
            "Fra:0 Mem:568.71M (Peak 574.03M) | Time:00:01.52 | Mem:201.13M, Peak:219.99M | Scene, ViewLayer | Updating Images | Loading ivana-cajina-asuyh-_ZX54-unsplash.jpg\n",
            "Fra:0 Mem:568.71M (Peak 574.03M) | Time:00:01.52 | Mem:201.13M, Peak:219.99M | Scene, ViewLayer | Updating Images | Loading Street_Lamp_Material.005_BaseColor.png\n",
            "Fra:0 Mem:568.71M (Peak 574.03M) | Time:00:01.52 | Mem:201.13M, Peak:219.99M | Scene, ViewLayer | Updating Camera Volume\n",
            "Fra:0 Mem:568.71M (Peak 574.03M) | Time:00:01.52 | Mem:201.13M, Peak:219.99M | Scene, ViewLayer | Updating Lookup Tables\n",
            "Fra:0 Mem:568.71M (Peak 574.03M) | Time:00:01.52 | Mem:201.21M, Peak:219.99M | Scene, ViewLayer | Updating Lights\n",
            "Fra:0 Mem:568.71M (Peak 574.03M) | Time:00:01.52 | Mem:201.21M, Peak:219.99M | Scene, ViewLayer | Updating Lights | Computing tree\n",
            "Fra:0 Mem:594.76M (Peak 612.80M) | Time:00:02.41 | Mem:227.26M, Peak:227.26M | Scene, ViewLayer | Updating Integrator\n",
            "Fra:0 Mem:594.76M (Peak 612.80M) | Time:00:02.41 | Mem:227.26M, Peak:227.26M | Scene, ViewLayer | Updating Film\n",
            "Fra:0 Mem:594.77M (Peak 612.80M) | Time:00:02.41 | Mem:227.18M, Peak:227.26M | Scene, ViewLayer | Updating Lookup Tables\n",
            "Fra:0 Mem:594.77M (Peak 612.80M) | Time:00:02.41 | Mem:227.27M, Peak:227.27M | Scene, ViewLayer | Updating Baking\n",
            "Fra:0 Mem:594.77M (Peak 612.80M) | Time:00:02.41 | Mem:227.27M, Peak:227.27M | Scene, ViewLayer | Updating Device | Writing constant memory\n",
            "Fra:0 Mem:594.77M (Peak 612.80M) | Time:00:02.41 | Mem:227.27M, Peak:227.27M | Scene, ViewLayer | Loading denoising kernels (may take a few minutes the first time)\n",
            "Fra:0 Mem:598.77M (Peak 612.80M) | Time:00:02.41 | Mem:571.27M, Peak:571.27M | Scene, ViewLayer | Rendered 0/4 Tiles, Sample 0/4096\n",
            "Fra:0 Mem:903.96M (Peak 903.96M) | Time:00:03.02 | Remaining:01:26:53.74 | Mem:876.46M, Peak:876.46M | Scene, ViewLayer | Rendered 0/4 Tiles, Sample 1/4096\n",
            "\n",
            "Sent an internal break event. Press ^C again to kill Blender\n",
            "\n",
            "Blender killed\n"
          ]
        }
      ]
    }
  ]
}